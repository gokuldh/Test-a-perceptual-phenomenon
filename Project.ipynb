{
 "cells": [
  {
   "cell_type": "markdown",
   "metadata": {},
   "source": [
    "## INFERENTIAL STATISTICS PROJECT : STROOP EFFECT\n",
    "### SOHAN SAMANTA"
   ]
  },
  {
   "cell_type": "markdown",
   "metadata": {},
   "source": [
    "### INTRODUCTION:\n",
    "In a Stroop task, participants are presented with a list of words, with each word displayed in a color of ink. The participant’s task is to say out loud the color of the ink in which the word is printed. The task has two conditions: a congruent words condition, and an incongruent words condition. In the congruent words condition, the words being displayed are color words whose names match the colors in which they are printed: for example RED, BLUE. In the incongruent words condition, the words displayed are color words whose names do not match the colors in which they are printed: for example PURPLE, ORANGE. In each case, we measure the time it takes to name the ink colors in equally-sized lists. Each participant will go through and record a time from each condition."
   ]
  },
  {
   "cell_type": "code",
   "execution_count": 2,
   "metadata": {
    "collapsed": false
   },
   "outputs": [],
   "source": [
    "# import libraries\n",
    "import pandas as pd\n",
    "import numpy as np\n",
    "import math\n",
    "from scipy import stats\n",
    "import matplotlib.pyplot as plt\n",
    "import seaborn as sns\n",
    "%matplotlib inline"
   ]
  },
  {
   "cell_type": "code",
   "execution_count": 3,
   "metadata": {
    "collapsed": false
   },
   "outputs": [
    {
     "data": {
      "text/html": [
       "<div>\n",
       "<table border=\"1\" class=\"dataframe\">\n",
       "  <thead>\n",
       "    <tr style=\"text-align: right;\">\n",
       "      <th></th>\n",
       "      <th>Congruent</th>\n",
       "      <th>Incongruent</th>\n",
       "    </tr>\n",
       "  </thead>\n",
       "  <tbody>\n",
       "    <tr>\n",
       "      <th>0</th>\n",
       "      <td>12.079</td>\n",
       "      <td>19.278</td>\n",
       "    </tr>\n",
       "    <tr>\n",
       "      <th>1</th>\n",
       "      <td>16.791</td>\n",
       "      <td>18.741</td>\n",
       "    </tr>\n",
       "    <tr>\n",
       "      <th>2</th>\n",
       "      <td>9.564</td>\n",
       "      <td>21.214</td>\n",
       "    </tr>\n",
       "    <tr>\n",
       "      <th>3</th>\n",
       "      <td>8.630</td>\n",
       "      <td>15.687</td>\n",
       "    </tr>\n",
       "    <tr>\n",
       "      <th>4</th>\n",
       "      <td>14.669</td>\n",
       "      <td>22.803</td>\n",
       "    </tr>\n",
       "    <tr>\n",
       "      <th>5</th>\n",
       "      <td>12.238</td>\n",
       "      <td>20.878</td>\n",
       "    </tr>\n",
       "    <tr>\n",
       "      <th>6</th>\n",
       "      <td>14.692</td>\n",
       "      <td>24.572</td>\n",
       "    </tr>\n",
       "    <tr>\n",
       "      <th>7</th>\n",
       "      <td>8.987</td>\n",
       "      <td>17.394</td>\n",
       "    </tr>\n",
       "    <tr>\n",
       "      <th>8</th>\n",
       "      <td>9.401</td>\n",
       "      <td>20.762</td>\n",
       "    </tr>\n",
       "    <tr>\n",
       "      <th>9</th>\n",
       "      <td>14.480</td>\n",
       "      <td>26.282</td>\n",
       "    </tr>\n",
       "    <tr>\n",
       "      <th>10</th>\n",
       "      <td>22.328</td>\n",
       "      <td>24.524</td>\n",
       "    </tr>\n",
       "    <tr>\n",
       "      <th>11</th>\n",
       "      <td>15.298</td>\n",
       "      <td>18.644</td>\n",
       "    </tr>\n",
       "    <tr>\n",
       "      <th>12</th>\n",
       "      <td>15.073</td>\n",
       "      <td>17.510</td>\n",
       "    </tr>\n",
       "    <tr>\n",
       "      <th>13</th>\n",
       "      <td>16.929</td>\n",
       "      <td>20.330</td>\n",
       "    </tr>\n",
       "    <tr>\n",
       "      <th>14</th>\n",
       "      <td>18.200</td>\n",
       "      <td>35.255</td>\n",
       "    </tr>\n",
       "    <tr>\n",
       "      <th>15</th>\n",
       "      <td>12.130</td>\n",
       "      <td>22.158</td>\n",
       "    </tr>\n",
       "    <tr>\n",
       "      <th>16</th>\n",
       "      <td>18.495</td>\n",
       "      <td>25.139</td>\n",
       "    </tr>\n",
       "    <tr>\n",
       "      <th>17</th>\n",
       "      <td>10.639</td>\n",
       "      <td>20.429</td>\n",
       "    </tr>\n",
       "    <tr>\n",
       "      <th>18</th>\n",
       "      <td>11.344</td>\n",
       "      <td>17.425</td>\n",
       "    </tr>\n",
       "    <tr>\n",
       "      <th>19</th>\n",
       "      <td>12.369</td>\n",
       "      <td>34.288</td>\n",
       "    </tr>\n",
       "    <tr>\n",
       "      <th>20</th>\n",
       "      <td>12.944</td>\n",
       "      <td>23.894</td>\n",
       "    </tr>\n",
       "    <tr>\n",
       "      <th>21</th>\n",
       "      <td>14.233</td>\n",
       "      <td>17.960</td>\n",
       "    </tr>\n",
       "    <tr>\n",
       "      <th>22</th>\n",
       "      <td>19.710</td>\n",
       "      <td>22.058</td>\n",
       "    </tr>\n",
       "    <tr>\n",
       "      <th>23</th>\n",
       "      <td>16.004</td>\n",
       "      <td>21.157</td>\n",
       "    </tr>\n",
       "  </tbody>\n",
       "</table>\n",
       "</div>"
      ],
      "text/plain": [
       "    Congruent  Incongruent\n",
       "0      12.079       19.278\n",
       "1      16.791       18.741\n",
       "2       9.564       21.214\n",
       "3       8.630       15.687\n",
       "4      14.669       22.803\n",
       "5      12.238       20.878\n",
       "6      14.692       24.572\n",
       "7       8.987       17.394\n",
       "8       9.401       20.762\n",
       "9      14.480       26.282\n",
       "10     22.328       24.524\n",
       "11     15.298       18.644\n",
       "12     15.073       17.510\n",
       "13     16.929       20.330\n",
       "14     18.200       35.255\n",
       "15     12.130       22.158\n",
       "16     18.495       25.139\n",
       "17     10.639       20.429\n",
       "18     11.344       17.425\n",
       "19     12.369       34.288\n",
       "20     12.944       23.894\n",
       "21     14.233       17.960\n",
       "22     19.710       22.058\n",
       "23     16.004       21.157"
      ]
     },
     "execution_count": 3,
     "metadata": {},
     "output_type": "execute_result"
    }
   ],
   "source": [
    "data = pd.read_csv('../inferential statistics/stroopdata.csv')\n",
    "data"
   ]
  },
  {
   "cell_type": "markdown",
   "metadata": {},
   "source": [
    "QUESTION 1.\n",
    "What is our independent variable? What is our dependent variable?\n",
    "\n",
    "Ans. The independent variable is the condtion of the variables i.e., whether the variables are congruent or incongruent.\n",
    "The dependent variable is the response time of the participant for the test."
   ]
  },
  {
   "cell_type": "markdown",
   "metadata": {},
   "source": [
    "QUESTION 2. \n",
    "What is an appropriate set of hypotheses for this task? What kind of statistical test do you expect to perform? Justify your choices.\n",
    "\n",
    "Ans. An appropriate set of hypothesis can be the following:\n",
    "\n",
    "$H_o : \\bar{x}_i - \\bar{x}_c = 0$\n",
    "\n",
    "$H_a : \\bar{x}_i - \\bar{x}_c > 0$\n",
    "\n",
    "where, \n",
    "        $\\bar{x}_i$ represents the sample mean for incongruent condition, and \n",
    "        $\\bar{x}_c$ represents the sample mean for congruent condition.\n",
    "\n",
    "It is to be noted that the population dat is not available to us, and we are only working with a sample data of length 24, and it is for this reason that Bessel's correction has been applied while calculating the standard deviation. Essentially we are trying to make inferences about the population from the sample data available. For the alternative hypothesis, we could have also hypothsised that the two means will simply not be equal. But the fact that the incongruent variables are meant to be harder to discern, it leads to the valid assumption that the incongruent variables will also take more time.\n",
    "\n",
    "For this statistical problem, we will use the dependent samples t-test. \n",
    "Firstly, we are going for a samples t-test because because we have no knowledge of the population data, specifically population standard deviation. t-test are also suitable for cases where the sample size is less than 30(24 in our case).\n",
    "Secondly, the reason for choosing dependent samples t-test, rests on the fact that both the tests will be taken by the same participant / group of participants and their different times for the different variables are to be compared. Since one contestant takes both the tests, it is very well possible that the practice from the first test may affect the results of the second test, hence the dependent samples test.\n",
    "Lastly, as we will see in the normal probability plots, the sample datas fall roughly on a normal curve, and hence is suitable for a t-test."
   ]
  },
  {
   "cell_type": "markdown",
   "metadata": {},
   "source": [
    "QUESTION 3. \n",
    "Report some descriptive statistics regarding this dataset. Include at least one measure of central tendency and at least one measure of variability."
   ]
  },
  {
   "cell_type": "code",
   "execution_count": 4,
   "metadata": {
    "collapsed": false
   },
   "outputs": [
    {
     "name": "stdout",
     "output_type": "stream",
     "text": [
      "Congruent tests:\n",
      "Mean = 14.05\n",
      "Standard deviation = 3.56\n"
     ]
    }
   ],
   "source": [
    "print(\"Congruent tests:\")\n",
    "print(\"Mean = {}\".format(round(data['Congruent'].mean(),2)))\n",
    "print(\"Standard deviation = {}\".format(round(data['Congruent'].std(),2)))"
   ]
  },
  {
   "cell_type": "code",
   "execution_count": 5,
   "metadata": {
    "collapsed": false,
    "scrolled": true
   },
   "outputs": [
    {
     "name": "stdout",
     "output_type": "stream",
     "text": [
      "Incongruent tests:\n",
      "Mean = 22.02\n",
      "Standard deviation = 4.8\n"
     ]
    }
   ],
   "source": [
    "print(\"Incongruent tests:\")\n",
    "print(\"Mean = {}\".format(round(data['Incongruent'].mean(),2)))\n",
    "print(\"Standard deviation = {}\".format(round(data['Incongruent'].std(),2)))"
   ]
  },
  {
   "cell_type": "markdown",
   "metadata": {},
   "source": [
    "QUESTION 4. \n",
    "Provide one or two visualizations that show the distribution of the sample data. Write one or two sentences noting what you observe about the plot or plots."
   ]
  },
  {
   "cell_type": "markdown",
   "metadata": {},
   "source": [
    "#### Scatter Plot"
   ]
  },
  {
   "cell_type": "code",
   "execution_count": 6,
   "metadata": {
    "collapsed": false
   },
   "outputs": [
    {
     "data": {
      "image/png": "[encoded data removed]",
      "text/plain": [
       "<matplotlib.figure.Figure at 0x1119df4e0>"
      ]
     },
     "metadata": {},
     "output_type": "display_data"
    }
   ],
   "source": [
    "plt.scatter(np.arange(1,25), data['Congruent'])\n",
    "plt.xticks(np.arange(1, 25, 1))\n",
    "plt.yticks(np.arange(math.floor(min(data['Congruent']-2)), math.ceil(max(data['Congruent']+2)), 2))\n",
    "plt.title('Congruent words',fontsize=14, fontweight='bold')\n",
    "plt.ylabel('Response Time')\n",
    "plt.xlabel('Participants')\n",
    "plt.show()"
   ]
  },
  {
   "cell_type": "markdown",
   "metadata": {},
   "source": [
    "#### Normal probability Plot"
   ]
  },
  {
   "cell_type": "code",
   "execution_count": 7,
   "metadata": {
    "collapsed": false
   },
   "outputs": [
    {
     "data": {
      "image/png": "[encoded data removed]",
      "text/plain": [
       "<matplotlib.figure.Figure at 0x107da3cf8>"
      ]
     },
     "metadata": {},
     "output_type": "display_data"
    }
   ],
   "source": [
    "stats.probplot(data['Congruent'], plot=plt)\n",
    "plt.show()"
   ]
  },
  {
   "cell_type": "markdown",
   "metadata": {},
   "source": [
    "#### Scatter Plot"
   ]
  },
  {
   "cell_type": "code",
   "execution_count": 8,
   "metadata": {
    "collapsed": false
   },
   "outputs": [
    {
     "data": {
      "image/png": "[encoded data removed]",
      "text/plain": [
       "<matplotlib.figure.Figure at 0x114022ac8>"
      ]
     },
     "metadata": {},
     "output_type": "display_data"
    }
   ],
   "source": [
    "plt.scatter(np.arange(1,25), data['Incongruent'], c='red', alpha=0.5)\n",
    "plt.xticks(np.arange(1, 25, 1))\n",
    "plt.yticks(np.arange(math.floor(min(data['Incongruent']-2)), math.ceil(max(data['Incongruent']+2)), 2))\n",
    "plt.title('Incongruent words',fontsize=14, fontweight='bold')\n",
    "plt.ylabel('Response Time')\n",
    "plt.xlabel('Participants')\n",
    "plt.show()"
   ]
  },
  {
   "cell_type": "markdown",
   "metadata": {},
   "source": [
    "#### Normal probability Plot"
   ]
  },
  {
   "cell_type": "code",
   "execution_count": 9,
   "metadata": {
    "collapsed": false
   },
   "outputs": [
    {
     "data": {
      "image/png": "[encoded data removed]",
      "text/plain": [
       "<matplotlib.figure.Figure at 0x113ff7dd8>"
      ]
     },
     "metadata": {},
     "output_type": "display_data"
    }
   ],
   "source": [
    "stats.probplot(data['Incongruent'], plot=plt)\n",
    "plt.show()"
   ]
  },
  {
   "cell_type": "markdown",
   "metadata": {},
   "source": [
    "Looking at the response time for the participants for the two tests, it is clearly visible that the range for the incongruent variables is larger than that for the congruent variables. \n",
    "While the congruent variables test has a response time range from 8 to 22, the incongruent test has a range from 17 to 35. \n",
    "The normal probability plots shows that for both the tests the data lies closely to a normal curve."
   ]
  },
  {
   "cell_type": "markdown",
   "metadata": {},
   "source": [
    "QUESTION 5. \n",
    "Now, perform the statistical test and report your results. What is your confidence level and your critical statistic value? Do you reject the null hypothesis or fail to reject it? Come to a conclusion in terms of the experiment task. Did the results match up with your expectations?"
   ]
  },
  {
   "cell_type": "markdown",
   "metadata": {},
   "source": [
    "For our dependent t-test, we will consider an alpha value of 0.05.\n",
    "\n",
    "Since our degrees of freedom is 23(total no of observations-1) and $\\alpha$ = 0.05, the t-critical value we get from the t table is 1.714"
   ]
  },
  {
   "cell_type": "code",
   "execution_count": 31,
   "metadata": {
    "collapsed": false
   },
   "outputs": [
    {
     "name": "stdout",
     "output_type": "stream",
     "text": [
      "The value of t-statistics is 8.020706944109955\n"
     ]
    }
   ],
   "source": [
    "data['Diff'] = data['Congruent'] - data['Incongruent']\n",
    "data['Diff_minus_mean_square'] = (data['Diff'] - data['Diff'].mean())**2\n",
    "df = len(data)-1\n",
    "S = math.sqrt(data['Diff_minus_mean_square'].sum() / df)\n",
    "t = (data['Incongruent'].mean() - data['Congruent'].mean())/(S/math.sqrt(len(data)))\n",
    "print('The value of t-statistics is',t)"
   ]
  },
  {
   "cell_type": "markdown",
   "metadata": {},
   "source": [
    "The t-statistics value is thus greater than the t-critical value:\n",
    "\n",
    "$t-statistics = 8.02 > t-critical = 1.714$\n",
    "\n",
    "Hence, we reject the null as the t-statistics is significantly higher than the t-critical.\n",
    "\n",
    "This result does align with our expectations. The way the test is designed, instinctively we understood that naming the color of the incongruent words would be a more difficult task than naming the color of congruent words. This test only confirms our assumption."
   ]
  },
  {
   "cell_type": "markdown",
   "metadata": {},
   "source": [
    "QUESTION 6. \n",
    "Optional: What do you think is responsible for the effects observed? Can you think of an alternative or similar task that would result in a similar effect? Some research about the problem will be helpful for thinking about these two questions!"
   ]
  },
  {
   "cell_type": "markdown",
   "metadata": {},
   "source": [
    "I read in an article that stated, once the human brain gets attuned to reading a language, it essentially just looks at the first and last letters to assume the best possible match for that word. That is what lets us read sentences so quickly.; we are not reading all the letters, just a bare minimum of them so that our brain can deduce the rest. \n",
    "Thus, the human brain is so familiar with reading, that when words are held infront of the eye, the brain automatically discerns it. But identifying the color,  which maybe different from the word, and stating it aloud requires extra work and thus extra time. This time difference is what appears in these stroop tests.\n",
    "\n",
    "A similar task that might reveal a similar result may be obtained from trying to name different shapes with the names of the shapes spelled inside the shapes. For congruent examples, the correct names will be placed inside each shape, for incongruent ones, wrong names will be placed inside the shapes. The task will be to name the correct shape. The point would be to see how much difficulty is faced or more time is required to name the shapes. My expectation is that the incongruent examples will take more time to be named, although the difference in times may not be as pronounced as this experiment."
   ]
  }
 ],
 "metadata": {
  "kernelspec": {
   "display_name": "Python 3",
   "language": "python",
   "name": "python3"
  },
  "language_info": {
   "codemirror_mode": {
    "name": "ipython",
    "version": 3
   },
   "file_extension": ".py",
   "mimetype": "text/x-python",
   "name": "python",
   "nbconvert_exporter": "python",
   "pygments_lexer": "ipython3",
   "version": "3.6.0"
  }
 },
 "nbformat": 4,
 "nbformat_minor": 2
}
